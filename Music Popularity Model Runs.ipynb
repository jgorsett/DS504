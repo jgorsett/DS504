{
 "cells": [
  {
   "cell_type": "markdown",
   "metadata": {},
   "source": [
    "# Music Popularity Model Runs"
   ]
  },
  {
   "cell_type": "markdown",
   "metadata": {},
   "source": [
    "### Data Preparation"
   ]
  },
  {
   "cell_type": "code",
   "execution_count": 2,
   "metadata": {},
   "outputs": [],
   "source": [
    "import pandas as pd\n",
    "import numpy as np\n",
    "import matplotlib.pyplot as plt\n",
    "from datetime import datetime\n",
    "import pylab as pl\n",
    "from scipy import stats\n",
    "import math \n",
    "\n",
    "%matplotlib inline\n",
    "from sklearn.preprocessing import StandardScaler\n",
    "import seaborn as sns; sns.set()\n",
    "\n",
    "from sklearn.model_selection import train_test_split #All ML libaries\n",
    "from sklearn import tree \n",
    "from sklearn import metrics"
   ]
  },
  {
   "cell_type": "code",
   "execution_count": 3,
   "metadata": {},
   "outputs": [],
   "source": [
    "# Load in the data with `read_csv()`\n",
    "features = pd.read_csv(\"features_with_headers.csv\",\n",
    "                     header=0)\n",
    "\n",
    "tracks = pd.read_csv(\"tracks_with_headers.csv\",\n",
    "                   header=0)"
   ]
  },
  {
   "cell_type": "code",
   "execution_count": 4,
   "metadata": {},
   "outputs": [
    {
     "data": {
      "text/html": [
       "<div>\n",
       "<style scoped>\n",
       "    .dataframe tbody tr th:only-of-type {\n",
       "        vertical-align: middle;\n",
       "    }\n",
       "\n",
       "    .dataframe tbody tr th {\n",
       "        vertical-align: top;\n",
       "    }\n",
       "\n",
       "    .dataframe thead th {\n",
       "        text-align: right;\n",
       "    }\n",
       "</style>\n",
       "<table border=\"1\" class=\"dataframe\">\n",
       "  <thead>\n",
       "    <tr style=\"text-align: right;\">\n",
       "      <th></th>\n",
       "      <th>track_id</th>\n",
       "      <th>track_genre_top</th>\n",
       "      <th>artist_name</th>\n",
       "      <th>track_title</th>\n",
       "      <th>track_duration</th>\n",
       "      <th>track_listens</th>\n",
       "      <th>chroma_cens_kurtosis_1</th>\n",
       "      <th>chroma_cens_kurtosis_2</th>\n",
       "      <th>chroma_cens_kurtosis_3</th>\n",
       "      <th>chroma_cens_kurtosis_4</th>\n",
       "      <th>...</th>\n",
       "      <th>tonnetz_std_4</th>\n",
       "      <th>tonnetz_std_5</th>\n",
       "      <th>tonnetz_std_6</th>\n",
       "      <th>zcr_kurtosis_1</th>\n",
       "      <th>zcr_max_1</th>\n",
       "      <th>zcr_mean_1</th>\n",
       "      <th>zcr_median_1</th>\n",
       "      <th>zcr_min_1</th>\n",
       "      <th>zcr_skew_1</th>\n",
       "      <th>zcr_std_1</th>\n",
       "    </tr>\n",
       "  </thead>\n",
       "  <tbody>\n",
       "    <tr>\n",
       "      <th>0</th>\n",
       "      <td>2</td>\n",
       "      <td>Hip-Hop</td>\n",
       "      <td>AWOL</td>\n",
       "      <td>Food</td>\n",
       "      <td>168.0</td>\n",
       "      <td>1293.0</td>\n",
       "      <td>7.180</td>\n",
       "      <td>5.2300</td>\n",
       "      <td>0.249</td>\n",
       "      <td>1.350</td>\n",
       "      <td>...</td>\n",
       "      <td>0.0541</td>\n",
       "      <td>0.0122</td>\n",
       "      <td>0.0121</td>\n",
       "      <td>5.76</td>\n",
       "      <td>0.459</td>\n",
       "      <td>0.0856</td>\n",
       "      <td>0.0713</td>\n",
       "      <td>0.000000</td>\n",
       "      <td>2.09</td>\n",
       "      <td>0.0614</td>\n",
       "    </tr>\n",
       "    <tr>\n",
       "      <th>1</th>\n",
       "      <td>3</td>\n",
       "      <td>Hip-Hop</td>\n",
       "      <td>AWOL</td>\n",
       "      <td>Electric Ave</td>\n",
       "      <td>237.0</td>\n",
       "      <td>514.0</td>\n",
       "      <td>1.890</td>\n",
       "      <td>0.7610</td>\n",
       "      <td>0.345</td>\n",
       "      <td>2.300</td>\n",
       "      <td>...</td>\n",
       "      <td>0.0638</td>\n",
       "      <td>0.0142</td>\n",
       "      <td>0.0177</td>\n",
       "      <td>2.82</td>\n",
       "      <td>0.466</td>\n",
       "      <td>0.0846</td>\n",
       "      <td>0.0640</td>\n",
       "      <td>0.000000</td>\n",
       "      <td>1.72</td>\n",
       "      <td>0.0693</td>\n",
       "    </tr>\n",
       "    <tr>\n",
       "      <th>2</th>\n",
       "      <td>5</td>\n",
       "      <td>Hip-Hop</td>\n",
       "      <td>AWOL</td>\n",
       "      <td>This World</td>\n",
       "      <td>206.0</td>\n",
       "      <td>1151.0</td>\n",
       "      <td>0.528</td>\n",
       "      <td>-0.0777</td>\n",
       "      <td>-0.280</td>\n",
       "      <td>0.686</td>\n",
       "      <td>...</td>\n",
       "      <td>0.0407</td>\n",
       "      <td>0.0127</td>\n",
       "      <td>0.0148</td>\n",
       "      <td>6.81</td>\n",
       "      <td>0.375</td>\n",
       "      <td>0.0531</td>\n",
       "      <td>0.0415</td>\n",
       "      <td>0.000000</td>\n",
       "      <td>2.19</td>\n",
       "      <td>0.0449</td>\n",
       "    </tr>\n",
       "    <tr>\n",
       "      <th>3</th>\n",
       "      <td>10</td>\n",
       "      <td>Pop</td>\n",
       "      <td>Kurt Vile</td>\n",
       "      <td>Freeway</td>\n",
       "      <td>161.0</td>\n",
       "      <td>50135.0</td>\n",
       "      <td>3.700</td>\n",
       "      <td>-0.2910</td>\n",
       "      <td>2.200</td>\n",
       "      <td>-0.234</td>\n",
       "      <td>...</td>\n",
       "      <td>0.0744</td>\n",
       "      <td>0.0180</td>\n",
       "      <td>0.0139</td>\n",
       "      <td>21.40</td>\n",
       "      <td>0.452</td>\n",
       "      <td>0.0775</td>\n",
       "      <td>0.0718</td>\n",
       "      <td>0.000000</td>\n",
       "      <td>3.54</td>\n",
       "      <td>0.0408</td>\n",
       "    </tr>\n",
       "    <tr>\n",
       "      <th>4</th>\n",
       "      <td>20</td>\n",
       "      <td>NaN</td>\n",
       "      <td>Nicky Cook</td>\n",
       "      <td>Spiritual Level</td>\n",
       "      <td>311.0</td>\n",
       "      <td>361.0</td>\n",
       "      <td>-0.194</td>\n",
       "      <td>-0.1990</td>\n",
       "      <td>0.202</td>\n",
       "      <td>0.259</td>\n",
       "      <td>...</td>\n",
       "      <td>0.0950</td>\n",
       "      <td>0.0225</td>\n",
       "      <td>0.0214</td>\n",
       "      <td>16.70</td>\n",
       "      <td>0.470</td>\n",
       "      <td>0.0472</td>\n",
       "      <td>0.0400</td>\n",
       "      <td>0.000977</td>\n",
       "      <td>3.19</td>\n",
       "      <td>0.0310</td>\n",
       "    </tr>\n",
       "  </tbody>\n",
       "</table>\n",
       "<p>5 rows × 524 columns</p>\n",
       "</div>"
      ],
      "text/plain": [
       "   track_id track_genre_top artist_name      track_title  track_duration  \\\n",
       "0         2         Hip-Hop        AWOL             Food           168.0   \n",
       "1         3         Hip-Hop        AWOL     Electric Ave           237.0   \n",
       "2         5         Hip-Hop        AWOL       This World           206.0   \n",
       "3        10             Pop   Kurt Vile          Freeway           161.0   \n",
       "4        20             NaN  Nicky Cook  Spiritual Level           311.0   \n",
       "\n",
       "   track_listens  chroma_cens_kurtosis_1  chroma_cens_kurtosis_2  \\\n",
       "0         1293.0                   7.180                  5.2300   \n",
       "1          514.0                   1.890                  0.7610   \n",
       "2         1151.0                   0.528                 -0.0777   \n",
       "3        50135.0                   3.700                 -0.2910   \n",
       "4          361.0                  -0.194                 -0.1990   \n",
       "\n",
       "   chroma_cens_kurtosis_3  chroma_cens_kurtosis_4    ...      tonnetz_std_4  \\\n",
       "0                   0.249                   1.350    ...             0.0541   \n",
       "1                   0.345                   2.300    ...             0.0638   \n",
       "2                  -0.280                   0.686    ...             0.0407   \n",
       "3                   2.200                  -0.234    ...             0.0744   \n",
       "4                   0.202                   0.259    ...             0.0950   \n",
       "\n",
       "   tonnetz_std_5  tonnetz_std_6  zcr_kurtosis_1  zcr_max_1  zcr_mean_1  \\\n",
       "0         0.0122         0.0121            5.76      0.459      0.0856   \n",
       "1         0.0142         0.0177            2.82      0.466      0.0846   \n",
       "2         0.0127         0.0148            6.81      0.375      0.0531   \n",
       "3         0.0180         0.0139           21.40      0.452      0.0775   \n",
       "4         0.0225         0.0214           16.70      0.470      0.0472   \n",
       "\n",
       "   zcr_median_1  zcr_min_1  zcr_skew_1  zcr_std_1  \n",
       "0        0.0713   0.000000        2.09     0.0614  \n",
       "1        0.0640   0.000000        1.72     0.0693  \n",
       "2        0.0415   0.000000        2.19     0.0449  \n",
       "3        0.0718   0.000000        3.54     0.0408  \n",
       "4        0.0400   0.000977        3.19     0.0310  \n",
       "\n",
       "[5 rows x 524 columns]"
      ]
     },
     "execution_count": 4,
     "metadata": {},
     "output_type": "execute_result"
    }
   ],
   "source": [
    "tracks_sub = tracks[['track_id','track_genre_top','artist_name', 'track_title','track_duration','track_listens']]\n",
    "tf = tracks_sub.merge(features, left_on='track_id', right_on='track_id', how='inner')\n",
    "tf.head(5)"
   ]
  },
  {
   "cell_type": "markdown",
   "metadata": {},
   "source": [
    "### Remove artist from the sample for out of sample testing"
   ]
  },
  {
   "cell_type": "code",
   "execution_count": 8,
   "metadata": {},
   "outputs": [
    {
     "name": "stdout",
     "output_type": "stream",
     "text": [
      "(106573, 524)\n",
      "(8, 519)\n",
      "(106565, 524)\n"
     ]
    }
   ],
   "source": [
    "artist_label=\"Saylavees\"\n",
    "\n",
    "sample = tf[(tf.artist_name==artist_label)]\n",
    "sample = sample.iloc[:, 4:523]\n",
    "\n",
    "modelData = tf[(tf.artist_name!=artist_label)]\n",
    "\n",
    "print(tf.shape)\n",
    "print(sample.shape)\n",
    "print(modelData.shape)\n",
    "\n",
    "genre_label = 'Rock'\n",
    "genre = modelData[(modelData.track_genre_top==genre_label)]\n",
    "genre = genre.dropna()"
   ]
  },
  {
   "cell_type": "markdown",
   "metadata": {},
   "source": [
    "### Remove Outliers"
   ]
  },
  {
   "cell_type": "code",
   "execution_count": 9,
   "metadata": {},
   "outputs": [
    {
     "name": "stderr",
     "output_type": "stream",
     "text": [
      "C:\\Users\\jgorsett\\AppData\\Local\\Continuum\\anaconda3\\lib\\site-packages\\scipy\\stats\\stats.py:2253: RuntimeWarning: invalid value encountered in true_divide\n",
      "  return (a - mns) / sstd\n"
     ]
    }
   ],
   "source": [
    "genre_o = genre.copy()\n",
    "genre_o = genre_o.iloc[:, 4:523] \n",
    "\n",
    "z = np.abs(stats.zscore(genre_o))\n",
    "\n",
    "# Find values causing zscore errors\n",
    "zdf = pd.DataFrame(z, columns=genre_o.columns.values)\n",
    "zdf.head(5)\n",
    "invalid = zdf.isnull().any()\n",
    "#with pd.option_context('display.max_rows', None, 'display.max_columns', None):\n",
    "    #display(invalid)\n",
    "    \n",
    "#Remove columns causing the issues\n",
    "drop_col = [\"chroma_stft_max_12\"] #Rock \n",
    "\n",
    "genre_o = genre_o.drop(columns=drop_col)\n",
    "sample = sample.drop(columns=drop_col)\n",
    "\n",
    "z = np.abs(stats.zscore(genre_o))\n",
    "genre_o = genre_o[(z < 3).all(axis=1)]\n"
   ]
  },
  {
   "cell_type": "markdown",
   "metadata": {},
   "source": [
    "### Create popularity feature and data frames for the model"
   ]
  },
  {
   "cell_type": "code",
   "execution_count": 11,
   "metadata": {},
   "outputs": [
    {
     "name": "stdout",
     "output_type": "stream",
     "text": [
      "1362\n",
      "2724\n"
     ]
    }
   ],
   "source": [
    "target = genre_o.track_listens\n",
    "\n",
    "genre_p = genre_o.copy()\n",
    "genre_p = genre_p.assign(popularity=pd.qcut(target, 3, labels=[\"low\", \"med\", \"high\"]))\n",
    "genre_p.popularity = genre_p.popularity.replace(to_replace=[\"low\",\"med\", \"high\"], value=[0,0,1])\n",
    "\n",
    "popular = genre_p.track_listens[genre_p.popularity==1].aggregate('count')\n",
    "notpopular = genre_p.track_listens[genre_p.popularity==0].aggregate('count')\n",
    "\n",
    "print(popular)\n",
    "print(notpopular)\n",
    "\n",
    "pop_data = genre_p.drop(columns=['track_listens','popularity'])\n",
    "pop_target = genre_p.popularity\n",
    "\n",
    "# Get actual popularity for sample\n",
    "min_track_listens = genre_p.track_listens[genre_p.popularity==1].aggregate('min')\n",
    "sample_target = np.where(sample['track_listens']<min_track_listens, 0, 1)\n",
    "sample_data = sample.drop(columns=['track_listens'])"
   ]
  },
  {
   "cell_type": "markdown",
   "metadata": {},
   "source": [
    "## Models"
   ]
  },
  {
   "cell_type": "markdown",
   "metadata": {},
   "source": [
    "### PCA"
   ]
  },
  {
   "cell_type": "code",
   "execution_count": 12,
   "metadata": {},
   "outputs": [],
   "source": [
    "scaler = StandardScaler()\n",
    "scaler.fit(pop_data)\n",
    "X_scaled = scaler.transform(pop_data)"
   ]
  },
  {
   "cell_type": "code",
   "execution_count": 13,
   "metadata": {},
   "outputs": [
    {
     "name": "stdout",
     "output_type": "stream",
     "text": [
      "0.9961743343972975\n"
     ]
    }
   ],
   "source": [
    "from sklearn.decomposition import PCA\n",
    "pca = PCA(n_components=350)\n",
    "pca.fit(X_scaled)\n",
    "print(pca.explained_variance_ratio_.sum())\n",
    "x_pc = pca.fit_transform(X_scaled)[:,:350]\n"
   ]
  },
  {
   "cell_type": "markdown",
   "metadata": {},
   "source": [
    "### Decision Tree"
   ]
  },
  {
   "cell_type": "code",
   "execution_count": 36,
   "metadata": {},
   "outputs": [],
   "source": [
    "#1) and 3)\n",
    "X_train, X_test, y_train, y_test = train_test_split(pop_data, pop_target, test_size=0.2, random_state=2018, shuffle=True)\n",
    "#2)\n",
    "#X_train, X_test, y_train, y_test = train_test_split(x_pc, pop_target, test_size=0.2, random_state=2018, shuffle=True)"
   ]
  },
  {
   "cell_type": "code",
   "execution_count": 37,
   "metadata": {},
   "outputs": [
    {
     "name": "stdout",
     "output_type": "stream",
     "text": [
      "(3268, 350)\n",
      "(818, 350)\n"
     ]
    }
   ],
   "source": [
    "print(X_train.shape)\n",
    "print(X_test.shape)"
   ]
  },
  {
   "cell_type": "code",
   "execution_count": 47,
   "metadata": {},
   "outputs": [],
   "source": [
    "#1\n",
    "dec_tree = tree.DecisionTreeClassifier(random_state=2018)\n",
    "#2 and #3\n",
    "#dec_tree = tree.DecisionTreeClassifier(random_state=2018, max_depth=5)\n",
    "\n",
    "dec_tree = dec_tree.fit(X_train, y_train)"
   ]
  },
  {
   "cell_type": "code",
   "execution_count": 48,
   "metadata": {},
   "outputs": [],
   "source": [
    "pred_test = dec_tree.predict(X_test) # Predict the labels\n",
    "pred_test_prob = dec_tree.predict_proba(X_test) # Predict the probabilities"
   ]
  },
  {
   "cell_type": "code",
   "execution_count": 49,
   "metadata": {},
   "outputs": [],
   "source": [
    "fpr, tpr, thresholds = metrics.roc_curve(y_test, pred_test_prob[:,1])\n",
    "roc_auc = metrics.auc(fpr, tpr)"
   ]
  },
  {
   "cell_type": "code",
   "execution_count": 50,
   "metadata": {},
   "outputs": [
    {
     "data": {
      "image/png": "[encoded data removed]",
      "text/plain": [
       "<Figure size 432x288 with 1 Axes>"
      ]
     },
     "metadata": {},
     "output_type": "display_data"
    }
   ],
   "source": [
    "plt.title('Receiver Operating Characteristic')\n",
    "plt.plot(fpr, tpr, 'b', label = 'AUC = %0.2f' % roc_auc)\n",
    "plt.legend(loc = 'lower right')\n",
    "plt.plot([0, 1], [0, 1],'r--')\n",
    "plt.xlim([0, 1])\n",
    "plt.ylim([0, 1])\n",
    "plt.ylabel('True Positive Rate')\n",
    "plt.xlabel('False Positive Rate')\n",
    "plt.show()"
   ]
  },
  {
   "cell_type": "code",
   "execution_count": 42,
   "metadata": {},
   "outputs": [
    {
     "data": {
      "text/plain": [
       "0.5655562106918239"
      ]
     },
     "execution_count": 42,
     "metadata": {},
     "output_type": "execute_result"
    }
   ],
   "source": [
    "metrics.roc_auc_score(y_test, pred_test_prob[:,1])"
   ]
  },
  {
   "cell_type": "code",
   "execution_count": 35,
   "metadata": {},
   "outputs": [
    {
     "data": {
      "text/plain": [
       "0.6210268948655256"
      ]
     },
     "execution_count": 35,
     "metadata": {},
     "output_type": "execute_result"
    }
   ],
   "source": [
    "metrics.accuracy_score(y_test, pred_test)"
   ]
  },
  {
   "cell_type": "markdown",
   "metadata": {},
   "source": [
    "### GBM"
   ]
  },
  {
   "cell_type": "code",
   "execution_count": 51,
   "metadata": {},
   "outputs": [],
   "source": [
    "import numpy as np\n",
    "import pandas as pd\n",
    "from sklearn.model_selection import train_test_split\n",
    "from sklearn.ensemble import GradientBoostingClassifier\n",
    "from sklearn import metrics\n",
    "from IPython.core.display import HTML\n",
    "import matplotlib.pyplot as plt"
   ]
  },
  {
   "cell_type": "code",
   "execution_count": 52,
   "metadata": {},
   "outputs": [],
   "source": [
    "X_train, X_test, y_train, y_test = train_test_split(pop_data, pop_target, test_size=0.2, random_state=2018, shuffle=True)"
   ]
  },
  {
   "cell_type": "code",
   "execution_count": 66,
   "metadata": {},
   "outputs": [
    {
     "name": "stdout",
     "output_type": "stream",
     "text": [
      "      Iter       Train Loss   Remaining Time \n",
      "         1           1.2467           10.83s\n",
      "         2           1.2299           12.32s\n",
      "         3           1.2147           11.94s\n",
      "         4           1.2004           11.91s\n",
      "         5           1.1843           11.59s\n",
      "         6           1.1712           11.58s\n",
      "         7           1.1562           11.44s\n",
      "         8           1.1460           11.33s\n",
      "         9           1.1335           11.04s\n",
      "        10           1.1230           11.09s\n",
      "        20           1.0299            9.10s\n",
      "        30           0.9618            7.62s\n",
      "        40           0.8999            6.28s\n",
      "        50           0.8459            5.16s\n",
      "        60           0.8050            4.02s\n",
      "        70           0.7602            2.96s\n",
      "        80           0.7253            1.93s\n",
      "        90           0.6879            0.96s\n",
      "       100           0.6578            0.00s\n"
     ]
    }
   ],
   "source": [
    "#1)\n",
    "gbm = GradientBoostingClassifier(random_state=2018, n_estimators=100, verbose=1)\n",
    "#2)\n",
    "#gbm = GradientBoostingClassifier(max_depth=5, random_state=2018, n_estimators=100, verbose=1)\n",
    "\n",
    "gbm = gbm.fit(X_train, y_train)"
   ]
  },
  {
   "cell_type": "code",
   "execution_count": 67,
   "metadata": {},
   "outputs": [],
   "source": [
    "pred_test = gbm.predict(X_test)\n",
    "pred_test_prob = gbm.predict_proba(X_test)"
   ]
  },
  {
   "cell_type": "code",
   "execution_count": 68,
   "metadata": {},
   "outputs": [],
   "source": [
    "fpr, tpr, thresholds = metrics.roc_curve(y_test, pred_test_prob[:,1])\n",
    "roc_auc = metrics.auc(fpr, tpr)"
   ]
  },
  {
   "cell_type": "code",
   "execution_count": 69,
   "metadata": {},
   "outputs": [
    {
     "data": {
      "image/png": "[encoded data removed]",
      "text/plain": [
       "<Figure size 432x288 with 1 Axes>"
      ]
     },
     "metadata": {},
     "output_type": "display_data"
    }
   ],
   "source": [
    "plt.title('Receiver Operating Characteristic')\n",
    "plt.plot(fpr, tpr, 'b', label = 'AUC = %0.2f' % roc_auc)\n",
    "plt.legend(loc = 'lower right')\n",
    "plt.plot([0, 1], [0, 1],'r--')\n",
    "plt.xlim([0, 1])\n",
    "plt.ylim([0, 1])\n",
    "plt.ylabel('True Positive Rate')\n",
    "plt.xlabel('False Positive Rate')\n",
    "plt.show()"
   ]
  },
  {
   "cell_type": "code",
   "execution_count": 70,
   "metadata": {},
   "outputs": [
    {
     "data": {
      "text/plain": [
       "0.6552345387840671"
      ]
     },
     "execution_count": 70,
     "metadata": {},
     "output_type": "execute_result"
    }
   ],
   "source": [
    "metrics.roc_auc_score(y_test, pred_test_prob[:,1])"
   ]
  },
  {
   "cell_type": "code",
   "execution_count": 71,
   "metadata": {},
   "outputs": [
    {
     "data": {
      "text/plain": [
       "0.6625916870415648"
      ]
     },
     "execution_count": 71,
     "metadata": {},
     "output_type": "execute_result"
    }
   ],
   "source": [
    "metrics.accuracy_score(y_test, pred_test)"
   ]
  },
  {
   "cell_type": "markdown",
   "metadata": {},
   "source": [
    "### KNN"
   ]
  },
  {
   "cell_type": "code",
   "execution_count": 94,
   "metadata": {},
   "outputs": [],
   "source": [
    "import numpy as np\n",
    "import pandas as pd\n",
    "from sklearn.model_selection import train_test_split\n",
    "from sklearn.neighbors import KNeighborsClassifier\n",
    "from sklearn import metrics\n",
    "from IPython.core.display import HTML\n",
    "import matplotlib.pyplot as plt\n",
    "from sklearn.preprocessing import StandardScaler "
   ]
  },
  {
   "cell_type": "code",
   "execution_count": 95,
   "metadata": {},
   "outputs": [],
   "source": [
    "X_train, X_test, y_train, y_test = train_test_split(pop_data, pop_target, test_size=0.2, random_state=2018, shuffle=True)"
   ]
  },
  {
   "cell_type": "code",
   "execution_count": 96,
   "metadata": {},
   "outputs": [
    {
     "name": "stdout",
     "output_type": "stream",
     "text": [
      "(3268, 517)\n",
      "(818, 517)\n"
     ]
    }
   ],
   "source": [
    "print(X_train.shape)\n",
    "print(X_test.shape)"
   ]
  },
  {
   "cell_type": "code",
   "execution_count": 97,
   "metadata": {},
   "outputs": [],
   "source": [
    "scaler = StandardScaler()  \n",
    "scaler.fit(X_train)\n",
    "\n",
    "X_train = scaler.transform(X_train)  \n",
    "X_test = scaler.transform(X_test)  "
   ]
  },
  {
   "cell_type": "code",
   "execution_count": 98,
   "metadata": {},
   "outputs": [],
   "source": [
    "knn = KNeighborsClassifier(n_neighbors=7)\n",
    "knn = knn.fit(X_train, y_train)"
   ]
  },
  {
   "cell_type": "code",
   "execution_count": 99,
   "metadata": {},
   "outputs": [],
   "source": [
    "pred_test = knn.predict(X_test)\n",
    "pred_test_prob = knn.predict_proba(X_test)"
   ]
  },
  {
   "cell_type": "code",
   "execution_count": 100,
   "metadata": {},
   "outputs": [],
   "source": [
    "fpr, tpr, thresholds = metrics.roc_curve(y_test, pred_test_prob[:,1])\n",
    "roc_auc = metrics.auc(fpr, tpr)"
   ]
  },
  {
   "cell_type": "code",
   "execution_count": 101,
   "metadata": {},
   "outputs": [
    {
     "data": {
      "image/png": "[encoded data removed]",
      "text/plain": [
       "<Figure size 432x288 with 1 Axes>"
      ]
     },
     "metadata": {},
     "output_type": "display_data"
    }
   ],
   "source": [
    "plt.title('Receiver Operating Characteristic')\n",
    "plt.plot(fpr, tpr, 'b', label = 'AUC = %0.2f' % roc_auc)\n",
    "plt.legend(loc = 'lower right')\n",
    "plt.plot([0, 1], [0, 1],'r--')\n",
    "plt.xlim([0, 1])\n",
    "plt.ylim([0, 1])\n",
    "plt.ylabel('True Positive Rate')\n",
    "plt.xlabel('False Positive Rate')\n",
    "plt.show()"
   ]
  },
  {
   "cell_type": "code",
   "execution_count": 102,
   "metadata": {},
   "outputs": [
    {
     "data": {
      "text/plain": [
       "0.667292321802935"
      ]
     },
     "execution_count": 102,
     "metadata": {},
     "output_type": "execute_result"
    }
   ],
   "source": [
    "metrics.roc_auc_score(y_test, pred_test_prob[:,1])"
   ]
  },
  {
   "cell_type": "code",
   "execution_count": 103,
   "metadata": {},
   "outputs": [
    {
     "data": {
      "text/plain": [
       "0.6748166259168704"
      ]
     },
     "execution_count": 103,
     "metadata": {},
     "output_type": "execute_result"
    }
   ],
   "source": [
    "metrics.accuracy_score(y_test, pred_test)"
   ]
  },
  {
   "cell_type": "markdown",
   "metadata": {},
   "source": [
    "### SVM"
   ]
  },
  {
   "cell_type": "code",
   "execution_count": 104,
   "metadata": {},
   "outputs": [],
   "source": [
    "%matplotlib inline\n",
    "import numpy as np\n",
    "import pandas as pd\n",
    "from sklearn.model_selection import train_test_split\n",
    "from sklearn import svm\n",
    "from sklearn import metrics\n",
    "from IPython.core.display import HTML\n",
    "import matplotlib.pyplot as plt\n",
    "import seaborn as sns; sns.set()\n",
    "from sklearn.preprocessing import StandardScaler  "
   ]
  },
  {
   "cell_type": "code",
   "execution_count": 105,
   "metadata": {},
   "outputs": [],
   "source": [
    "X_train, X_test, y_train, y_test = train_test_split(pop_data, pop_target, test_size=0.2, random_state=2018, shuffle=True)"
   ]
  },
  {
   "cell_type": "code",
   "execution_count": 106,
   "metadata": {},
   "outputs": [],
   "source": [
    "scaler = StandardScaler()  \n",
    "scaler.fit(X_train)\n",
    "\n",
    "X_train = scaler.transform(X_train)  \n",
    "X_test = scaler.transform(X_test) "
   ]
  },
  {
   "cell_type": "code",
   "execution_count": 107,
   "metadata": {},
   "outputs": [],
   "source": [
    "svmc = svm.SVC(kernel='rbf', C=1000, probability=True, random_state=2018)\n",
    "svmc = svmc.fit(X_train, y_train)"
   ]
  },
  {
   "cell_type": "code",
   "execution_count": 108,
   "metadata": {},
   "outputs": [],
   "source": [
    "pred_test = svmc.predict(X_test)\n",
    "pred_test_prob = svmc.predict_proba(X_test)"
   ]
  },
  {
   "cell_type": "code",
   "execution_count": 109,
   "metadata": {},
   "outputs": [],
   "source": [
    "fpr, tpr, thresholds = metrics.roc_curve(y_test, pred_test_prob[:,1])\n",
    "roc_auc = metrics.auc(fpr, tpr)"
   ]
  },
  {
   "cell_type": "code",
   "execution_count": 110,
   "metadata": {},
   "outputs": [
    {
     "data": {
      "image/png": "[encoded data removed]",
      "text/plain": [
       "<Figure size 432x288 with 1 Axes>"
      ]
     },
     "metadata": {},
     "output_type": "display_data"
    }
   ],
   "source": [
    "plt.title('Receiver Operating Characteristic')\n",
    "plt.plot(fpr, tpr, 'b', label = 'AUC = %0.2f' % roc_auc)\n",
    "plt.legend(loc = 'lower right')\n",
    "plt.plot([0, 1], [0, 1],'r--')\n",
    "plt.xlim([0, 1])\n",
    "plt.ylim([0, 1])\n",
    "plt.ylabel('True Positive Rate')\n",
    "plt.xlabel('False Positive Rate')\n",
    "plt.show()"
   ]
  },
  {
   "cell_type": "code",
   "execution_count": 111,
   "metadata": {},
   "outputs": [
    {
     "data": {
      "text/plain": [
       "0.6600759958071278"
      ]
     },
     "execution_count": 111,
     "metadata": {},
     "output_type": "execute_result"
    }
   ],
   "source": [
    "metrics.roc_auc_score(y_test, pred_test_prob[:,1])"
   ]
  },
  {
   "cell_type": "code",
   "execution_count": 112,
   "metadata": {},
   "outputs": [
    {
     "data": {
      "text/plain": [
       "0.6613691931540342"
      ]
     },
     "execution_count": 112,
     "metadata": {},
     "output_type": "execute_result"
    }
   ],
   "source": [
    "metrics.accuracy_score(y_test, pred_test)"
   ]
  },
  {
   "cell_type": "code",
   "execution_count": 113,
   "metadata": {},
   "outputs": [],
   "source": [
    "confmat = metrics.confusion_matrix(y_test, pred_test)"
   ]
  },
  {
   "cell_type": "code",
   "execution_count": 114,
   "metadata": {},
   "outputs": [
    {
     "data": {
      "image/png": "[encoded data removed]",
      "text/plain": [
       "<Figure size 432x288 with 1 Axes>"
      ]
     },
     "metadata": {},
     "output_type": "display_data"
    }
   ],
   "source": [
    "sns.heatmap(confmat.T, square=True, annot=True, fmt='d', cbar=False, cmap=\"OrRd\",\n",
    "            xticklabels=['Not Popular','Popular'], yticklabels=['Not Popular','Popular'])\n",
    "plt.xlabel('True Label')\n",
    "plt.ylabel('Predicted Label');"
   ]
  },
  {
   "cell_type": "markdown",
   "metadata": {},
   "source": [
    "## Final Prediction"
   ]
  },
  {
   "cell_type": "code",
   "execution_count": 132,
   "metadata": {},
   "outputs": [
    {
     "name": "stdout",
     "output_type": "stream",
     "text": [
      "[0 0 0 0 0 0 0 0]\n",
      "[0 0 0 1 1 1 1 1]\n",
      "Overall Accuracy 0.375\n"
     ]
    }
   ],
   "source": [
    "X_sample = sample_data\n",
    "y_sample = sample_target\n",
    "\n",
    "\n",
    "pred_sample = svmc.predict(X_sample)\n",
    "pred_sample_prob = svmc.predict_proba(X_sample)\n",
    "\n",
    "#print(X_sample)\n",
    "#print(y_sample)\n",
    "print(pred_sample)\n",
    "print(y_sample)\n",
    "#print(pred_sample_prob)\n",
    "\n",
    "print('Overall Accuracy', metrics.accuracy_score(y_sample, pred_sample))"
   ]
  },
  {
   "cell_type": "code",
   "execution_count": null,
   "metadata": {},
   "outputs": [],
   "source": []
  }
 ],
 "metadata": {
  "kernelspec": {
   "display_name": "Python 3",
   "language": "python",
   "name": "python3"
  },
  "language_info": {
   "codemirror_mode": {
    "name": "ipython",
    "version": 3
   },
   "file_extension": ".py",
   "mimetype": "text/x-python",
   "name": "python",
   "nbconvert_exporter": "python",
   "pygments_lexer": "ipython3",
   "version": "3.6.5"
  }
 },
 "nbformat": 4,
 "nbformat_minor": 2
}
